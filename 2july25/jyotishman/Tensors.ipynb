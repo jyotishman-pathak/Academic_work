{
  "nbformat": 4,
  "nbformat_minor": 0,
  "metadata": {
    "colab": {
      "provenance": []
    },
    "kernelspec": {
      "name": "python3",
      "display_name": "Python 3"
    },
    "language_info": {
      "name": "python"
    }
  },
  "cells": [
    {
      "cell_type": "markdown",
      "source": [
        "TensorFlow Basics – Learning Outline\n",
        "1. Introduction to Tensors\n",
        "What are tensors?\n",
        "\n",
        "Tensor ranks, shapes, and data types\n",
        "\n",
        "Creating tensors with tf.constant, tf.Variable, etc.\n",
        "\n",
        "2. Getting Information from Tensors\n",
        "Inspecting tensor shape, rank, and type\n",
        "\n",
        "Using .numpy(), .shape, .dtype, etc.\n",
        "\n",
        "Indexing and slicing tensors\n",
        "\n",
        "3. Manipulating Tensors\n",
        "Basic operations: addition, multiplication, etc.\n",
        "\n",
        "Reshaping with tf.reshape()\n",
        "\n",
        "Expanding and squeezing dimensions\n",
        "\n",
        "Transposing tensors\n",
        "\n",
        "4. Tensors and NumPy\n",
        "Interoperability with NumPy\n",
        "\n",
        "Converting between tensors and NumPy arrays\n",
        "\n",
        "Performance considerations\n",
        "\n",
        "5. Using @tf.function\n",
        "What is @tf.function?\n",
        "\n",
        "Converting Python functions to TensorFlow graphs\n",
        "\n",
        "Benefits of using @tf.function\n",
        "\n",
        "Example usage\n",
        "\n",
        "6. Using GPUs (or TPUs) with TensorFlow\n",
        "Checking for GPU/TPU availability\n",
        "\n",
        "Running operations on GPU/TPU\n",
        "\n",
        "Best practices for performance"
      ],
      "metadata": {
        "id": "siBYu1VUolOL"
      }
    },
    {
      "cell_type": "code",
      "source": [
        "#INTRO TO TENSORS\n",
        "\n",
        "import tensorflow as tf\n",
        "print(tf.__version__)\n"
      ],
      "metadata": {
        "colab": {
          "base_uri": "https://localhost:8080/"
        },
        "id": "I7YzBV02oZ7h",
        "outputId": "5142be7b-6771-4a3e-96d3-d35f334b071e"
      },
      "execution_count": 2,
      "outputs": [
        {
          "output_type": "stream",
          "name": "stdout",
          "text": [
            "2.18.0\n"
          ]
        }
      ]
    },
    {
      "cell_type": "code",
      "source": [
        "#create tensors with tf.constant\n",
        "scalar = tf.constant(7)\n",
        "scalar"
      ],
      "metadata": {
        "colab": {
          "base_uri": "https://localhost:8080/"
        },
        "id": "dZmKbdYYp2b4",
        "outputId": "ed41a098-904e-4658-b62a-69fef4a9174d"
      },
      "execution_count": 3,
      "outputs": [
        {
          "output_type": "execute_result",
          "data": {
            "text/plain": [
              "<tf.Tensor: shape=(), dtype=int32, numpy=7>"
            ]
          },
          "metadata": {},
          "execution_count": 3
        }
      ]
    },
    {
      "cell_type": "code",
      "source": [
        "#check the number of dimension of a tensor (ndim stands for number of dimensions )\n",
        "\n",
        "scalar.ndim"
      ],
      "metadata": {
        "colab": {
          "base_uri": "https://localhost:8080/"
        },
        "id": "LZYj5DOrqCF9",
        "outputId": "b1752e35-2f77-4a84-ba38-1be9372ff841"
      },
      "execution_count": 5,
      "outputs": [
        {
          "output_type": "execute_result",
          "data": {
            "text/plain": [
              "0"
            ]
          },
          "metadata": {},
          "execution_count": 5
        }
      ]
    },
    {
      "cell_type": "code",
      "source": [
        "#create a vector\n",
        "vector = tf.constant([10,10])\n",
        "vector"
      ],
      "metadata": {
        "colab": {
          "base_uri": "https://localhost:8080/"
        },
        "id": "EDusQqsJqSYz",
        "outputId": "19bf774c-6ebe-4c4d-e315-658a1f5db003"
      },
      "execution_count": 6,
      "outputs": [
        {
          "output_type": "execute_result",
          "data": {
            "text/plain": [
              "<tf.Tensor: shape=(2,), dtype=int32, numpy=array([10, 10], dtype=int32)>"
            ]
          },
          "metadata": {},
          "execution_count": 6
        }
      ]
    },
    {
      "cell_type": "code",
      "source": [
        "# check the dimension of our vector\n",
        "vector.ndim"
      ],
      "metadata": {
        "colab": {
          "base_uri": "https://localhost:8080/"
        },
        "id": "3hr9cnSaqb7a",
        "outputId": "687760e1-0c46-4682-ac9c-b0912a374893"
      },
      "execution_count": 7,
      "outputs": [
        {
          "output_type": "execute_result",
          "data": {
            "text/plain": [
              "1"
            ]
          },
          "metadata": {},
          "execution_count": 7
        }
      ]
    },
    {
      "cell_type": "code",
      "source": [
        "# create a matrix (having more the 1 dim)\n",
        "matrix = tf.constant([[10,7],[7,10]])\n",
        "matrix"
      ],
      "metadata": {
        "colab": {
          "base_uri": "https://localhost:8080/"
        },
        "id": "tOc3Tkaeqi-q",
        "outputId": "c85cb2d3-caec-4673-d44f-9d5a76426294"
      },
      "execution_count": 8,
      "outputs": [
        {
          "output_type": "execute_result",
          "data": {
            "text/plain": [
              "<tf.Tensor: shape=(2, 2), dtype=int32, numpy=\n",
              "array([[10,  7],\n",
              "       [ 7, 10]], dtype=int32)>"
            ]
          },
          "metadata": {},
          "execution_count": 8
        }
      ]
    },
    {
      "cell_type": "code",
      "source": [
        "# dimension of that matrix\n",
        "matrix.ndim"
      ],
      "metadata": {
        "colab": {
          "base_uri": "https://localhost:8080/"
        },
        "id": "aDJIPaESq83e",
        "outputId": "6feda595-6377-408e-f8fe-2fa95e685f03"
      },
      "execution_count": 10,
      "outputs": [
        {
          "output_type": "execute_result",
          "data": {
            "text/plain": [
              "2"
            ]
          },
          "metadata": {},
          "execution_count": 10
        }
      ]
    },
    {
      "cell_type": "code",
      "source": [
        "#create another matrix\n",
        "another_matrix = tf.constant([[10.,7.],\n",
        "                              [3.,2.],\n",
        "\n",
        "                               [4.,3.]], dtype=tf.float16) #specify the datatype\n",
        "\n",
        "another_matrix\n"
      ],
      "metadata": {
        "colab": {
          "base_uri": "https://localhost:8080/"
        },
        "id": "FS8I10EOrCIm",
        "outputId": "5b7b9e89-b99c-42d4-d8b6-804f4b8e3b66"
      },
      "execution_count": 17,
      "outputs": [
        {
          "output_type": "execute_result",
          "data": {
            "text/plain": [
              "<tf.Tensor: shape=(3, 2), dtype=float16, numpy=\n",
              "array([[10.,  7.],\n",
              "       [ 3.,  2.],\n",
              "       [ 4.,  3.]], dtype=float16)>"
            ]
          },
          "metadata": {},
          "execution_count": 17
        }
      ]
    },
    {
      "cell_type": "code",
      "source": [
        "another_matrix.ndim"
      ],
      "metadata": {
        "colab": {
          "base_uri": "https://localhost:8080/"
        },
        "id": "M4XvREfEtmQM",
        "outputId": "0bfb67ea-596d-4918-ab6a-bf99d01cd5cb"
      },
      "execution_count": 20,
      "outputs": [
        {
          "output_type": "execute_result",
          "data": {
            "text/plain": [
              "2"
            ]
          },
          "metadata": {},
          "execution_count": 20
        }
      ]
    },
    {
      "cell_type": "code",
      "source": [
        "# Let's create a tensor\n",
        "tensor = tf.constant([\n",
        "    [[1, 2, 3], [2, 3, 3] ],\n",
        "    [[2, 2, 1], [7, 8, 9]],\n",
        "    [[3, 4, 2], [2, 6, 8]]\n",
        "])\n",
        "\n",
        "tensor"
      ],
      "metadata": {
        "colab": {
          "base_uri": "https://localhost:8080/"
        },
        "id": "m4xaeT5Wuhj3",
        "outputId": "4b53e0b0-d34b-4c0e-b9e2-0822b946d85e"
      },
      "execution_count": 26,
      "outputs": [
        {
          "output_type": "execute_result",
          "data": {
            "text/plain": [
              "<tf.Tensor: shape=(3, 2, 3), dtype=int32, numpy=\n",
              "array([[[1, 2, 3],\n",
              "        [2, 3, 3]],\n",
              "\n",
              "       [[2, 2, 1],\n",
              "        [7, 8, 9]],\n",
              "\n",
              "       [[3, 4, 2],\n",
              "        [2, 6, 8]]], dtype=int32)>"
            ]
          },
          "metadata": {},
          "execution_count": 26
        }
      ]
    },
    {
      "cell_type": "code",
      "source": [
        "tensor.ndim"
      ],
      "metadata": {
        "colab": {
          "base_uri": "https://localhost:8080/"
        },
        "id": "HSEcxH_mx5Jm",
        "outputId": "29aa7cc2-931c-4673-ac56-bd1038d09c23"
      },
      "execution_count": 27,
      "outputs": [
        {
          "output_type": "execute_result",
          "data": {
            "text/plain": [
              "3"
            ]
          },
          "metadata": {},
          "execution_count": 27
        }
      ]
    },
    {
      "cell_type": "markdown",
      "source": [
        "##  What We Have Created So Far\n",
        "\n",
        "- **Scalar**: A single number  \n",
        "  ➤ 0-D tensor\n",
        "\n",
        "- **Vector**: A number with direction (e.g., windspeed and direction)  \n",
        "  ➤ 1-D tensor\n",
        "\n",
        "- **Matrix**: A 2-dimensional array of numbers  \n",
        "  ➤ 2-D tensor\n",
        "\n",
        "- **Tensor**: An n-dimensional array of numbers  \n",
        "  ➤ A 0-D tensor is a scalar  \n",
        "  ➤ A 1-D tensor is a vector  \n",
        "  ➤ A 2-D tensor is a matrix  \n",
        "  ➤ A 3-D or higher is called a tensor\n",
        "\n",
        "---\n",
        "\n",
        "## 🔢 Understanding Tensor Shapes\n",
        "\n",
        "A tensor's **shape** tells you how many dimensions and how many elements are in each dimension.\n",
        "\n",
        "Example:\n",
        "\n",
        "- `shape = (3, 3, 3)`  \n",
        "  → 3 blocks, each with 3 rows and 3 columns\n",
        "\n",
        "- `shape = (2, 2, 1)`  \n",
        "  → 2 blocks, each with 2 rows, and each row has 1 value\n",
        "\n",
        "Think of it like nested lists:\n",
        "\n",
        "```python\n",
        "tf.constant([\n",
        "  [ [1], [2] ],       # block 1\n",
        "  [ [3], [4] ]        # block 2\n",
        "])  # shape = (2, 2, 1)\n"
      ],
      "metadata": {
        "id": "596ZqF-JzKSG"
      }
    },
    {
      "cell_type": "code",
      "source": [],
      "metadata": {
        "id": "3Gg_HNtXzEtP"
      },
      "execution_count": null,
      "outputs": []
    }
  ]
}